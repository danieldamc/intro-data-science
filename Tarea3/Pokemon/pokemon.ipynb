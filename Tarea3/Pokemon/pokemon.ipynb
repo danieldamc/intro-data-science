{
 "cells": [
  {
   "cell_type": "markdown",
   "metadata": {},
   "source": [
    "# 1."
   ]
  },
  {
   "cell_type": "code",
   "execution_count": null,
   "metadata": {},
   "outputs": [],
   "source": [
    "import matplotlib.pyplot as plt\n",
    "import plotly.express as px\n",
    "import pandas as pd\n",
    "import numpy as np\n",
    "from sklearn.preprocessing import StandardScaler\n",
    "from sklearn.cluster import KMeans\n",
    "from sklearn.metrics import euclidean_distances\n",
    "from sklearn_extra.cluster import KMedoids\n",
    "import seaborn as sns\n",
    "\n",
    "# Scale the data using min-max scaler\n",
    "from sklearn.preprocessing import MinMaxScaler\n",
    "#import sillhouette score\n",
    "from sklearn.metrics import silhouette_score"
   ]
  },
  {
   "cell_type": "code",
   "execution_count": null,
   "metadata": {},
   "outputs": [],
   "source": [
    "#Cargar y verificar integridad de los datos. Realizar curación si corresponde.\n",
    "data = pd.read_csv('Pokemon.csv')\n",
    "data.head()\n"
   ]
  },
  {
   "cell_type": "code",
   "execution_count": null,
   "metadata": {},
   "outputs": [],
   "source": [
    "#some values in type 2 are missing, so we will fill them with the value 'None'\n",
    "data['Type 2'].fillna('None', inplace=True)"
   ]
  },
  {
   "cell_type": "markdown",
   "metadata": {},
   "source": [
    "# 2."
   ]
  },
  {
   "cell_type": "code",
   "execution_count": null,
   "metadata": {},
   "outputs": [],
   "source": [
    "#Graficar matriz de correlación y realizar un scatter_matrix con plotly.\n",
    "\n",
    "fig = px.scatter_matrix(data, dimensions=['HP', 'Attack', 'Defense', 'Sp. Atk', 'Sp. Def', 'Speed'], color='Legendary')\n",
    "fig.show()\n"
   ]
  },
  {
   "cell_type": "code",
   "execution_count": null,
   "metadata": {},
   "outputs": [],
   "source": [
    "'''sns.pairplot(data, hue='Legendary')\n",
    "plt.show()'''"
   ]
  },
  {
   "cell_type": "code",
   "execution_count": null,
   "metadata": {},
   "outputs": [],
   "source": [
    "#total vs legendary, boxplot\n",
    "fig = px.box(data, x='Legendary', y='Total')\n",
    "fig.show()\n"
   ]
  },
  {
   "cell_type": "code",
   "execution_count": null,
   "metadata": {},
   "outputs": [],
   "source": [
    "#total of only legendaries vs generation, scatter plot\n",
    "fig = px.scatter(data, x='Generation', y='Total', color='Legendary')\n",
    "#average line for total\n",
    "data_common = data[data['Legendary'] == False]\n",
    "fig.add_scatter(x=np.arange(1, 7), y=[data_common[data_common['Generation'] == i]['Total'].mean() for i in range(1, 7)], mode='lines', name='Average Total')\n",
    "data_legendary = data[data['Legendary'] == True]\n",
    "fig.add_scatter(x=np.arange(1, 7), y=[data_legendary[data_legendary['Generation'] == i]['Total'].mean() for i in range(1, 7)], mode='lines', name='Average Total Legendary')\n",
    "\n",
    "fig.show()\n",
    "\n"
   ]
  },
  {
   "cell_type": "markdown",
   "metadata": {},
   "source": [
    "# K-MEAN"
   ]
  },
  {
   "cell_type": "code",
   "execution_count": null,
   "metadata": {},
   "outputs": [],
   "source": [
    "#K-means clustering\n",
    "from sklearn.cluster import KMeans\n",
    "from sklearn.preprocessing import StandardScaler"
   ]
  },
  {
   "cell_type": "code",
   "execution_count": null,
   "metadata": {},
   "outputs": [],
   "source": [
    "n_types = data['Type 1'].nunique()\n",
    "n_types"
   ]
  },
  {
   "cell_type": "code",
   "execution_count": null,
   "metadata": {},
   "outputs": [],
   "source": [
    "data_copy = data.copy()\n",
    "#data_copy = data_copy[data_copy['Legendary'] == False]\n",
    "data_new = data_copy.drop(['#','Name', 'Generation', 'Legendary', 'Total', 'Type 1', 'Type 2'], axis=1)#, 'Type 1', 'Type 2', 'Generation', 'Legendary', 'Total'], axis=1)\n",
    "\n",
    "categorial_features = data_new.select_dtypes(include=['object']).columns\n",
    "data_scaled = pd.get_dummies(data_new, columns=categorial_features)\n",
    "scaler = MinMaxScaler()\n",
    "data_scaled = scaler.fit_transform(data_scaled)"
   ]
  },
  {
   "cell_type": "code",
   "execution_count": null,
   "metadata": {},
   "outputs": [],
   "source": [
    "\n",
    "distances_list = []\n",
    "sillhouette_list = []\n",
    "\n",
    "K = 80\n",
    "for j in range(2, K):\n",
    "    kmeans = KMeans(n_clusters=j, random_state=42)\n",
    "    data_new['Cluster'] = kmeans.fit_predict(data_scaled)\n",
    "    \n",
    "    total_distance = 0\n",
    "    for i in range(j):\n",
    "        cluster_points = data_scaled[data_new['Cluster'] == i]\n",
    "        cluster_center = kmeans.cluster_centers_[i]\n",
    "        total_distance += np.sum(np.linalg.norm(cluster_points - cluster_center, axis=1))\n",
    "\n",
    "    \n",
    "    #calculate sillhouette\n",
    "    sillhouette_list.append(silhouette_score(data_scaled, data_new['Cluster']))\n",
    "    \n",
    "    mean_distance = total_distance / data.shape[0]\n",
    "    distances_list.append(mean_distance)\n"
   ]
  },
  {
   "cell_type": "code",
   "execution_count": null,
   "metadata": {},
   "outputs": [],
   "source": [
    "#plot elbow method\n",
    "\n",
    "plt.plot(np.arange(2,K), distances_list)\n",
    "plt.xlabel('Number of clusters')\n",
    "plt.ylabel('Intracluster distance')\n",
    "plt.xticks(np.arange(1,K,5))\n",
    "plt.grid()\n",
    "plt.title('Elbow method')\n",
    "plt.show()\n"
   ]
  },
  {
   "cell_type": "code",
   "execution_count": null,
   "metadata": {},
   "outputs": [],
   "source": [
    "#plot sillhouette\n",
    "plt.plot(np.arange(2,K), sillhouette_list)\n",
    "plt.xlabel('Number of clusters')\n",
    "plt.ylabel('Intracluster distance')\n",
    "plt.xticks(np.arange(1,K,5))\n",
    "plt.grid()\n",
    "plt.show()"
   ]
  },
  {
   "cell_type": "code",
   "execution_count": null,
   "metadata": {},
   "outputs": [],
   "source": [
    "data_copy = data.copy()\n",
    "#data_copy = data_copy[data_copy['Legendary'] == False]\n",
    "data_new = data_copy.drop(['#','Name', 'Generation', 'Legendary', 'Total', 'Type 1', 'Type 2'], axis=1)#, 'Type 1', 'Type 2', 'Generation', 'Legendary', 'Total'], axis=1)\n",
    "\n",
    "categorial_features = data_new.select_dtypes(include=['object']).columns\n",
    "data_scaled = pd.get_dummies(data_new, columns=categorial_features)\n",
    "scaler = MinMaxScaler()\n",
    "data_scaled = scaler.fit_transform(data_scaled)"
   ]
  },
  {
   "cell_type": "code",
   "execution_count": null,
   "metadata": {},
   "outputs": [],
   "source": [
    "# Set the number of clusters to 10\n",
    "k = 10\n",
    "\n",
    "# Perform KMeans clustering\n",
    "kmeans = KMeans(n_clusters=k, random_state=42)\n",
    "data_new['Cluster'] = kmeans.fit_predict(data_scaled)"
   ]
  },
  {
   "cell_type": "code",
   "execution_count": null,
   "metadata": {},
   "outputs": [],
   "source": [
    "import plotly.graph_objects as go"
   ]
  },
  {
   "cell_type": "code",
   "execution_count": null,
   "metadata": {},
   "outputs": [],
   "source": [
    "fig = go.Figure()\n",
    "clusters = data_new['Cluster'].unique()\n",
    "\n",
    "for cluster in clusters:\n",
    "    cluster_data = data_new[data_new['Cluster'] == cluster].drop('Cluster', axis=1)\n",
    "    radar_data = cluster_data.mean().reset_index()\n",
    "    radar_data.columns = ['Stats', 'Values']\n",
    "    fig.add_trace(go.Scatterpolar(\n",
    "        r=radar_data['Values'],\n",
    "        theta=radar_data['Stats'],\n",
    "        fill='toself',\n",
    "        name=f'Cluster {cluster}'\n",
    "    ))\n",
    "\n",
    "    \n",
    "\n",
    "fig.update_layout(\n",
    "  polar=dict(\n",
    "    radialaxis=dict(\n",
    "      visible=True,\n",
    "      range=[0, 220]\n",
    "    )),\n",
    "  showlegend=False\n",
    ")\n",
    "\n",
    "fig.show()"
   ]
  },
  {
   "cell_type": "code",
   "execution_count": null,
   "metadata": {},
   "outputs": [],
   "source": [
    "clusters = data_new['Cluster'].unique()\n",
    "\n",
    "for cluster in clusters:\n",
    "    cluster_data = data_new[data_new['Cluster'] == cluster].drop('Cluster', axis=1)\n",
    "    \n",
    "    # Prepare data for radar graph\n",
    "    radar_data = cluster_data.mean().reset_index()\n",
    "    radar_data.columns = ['theta', 'r']\n",
    "    \n",
    "    # Create radar graph\n",
    "    fig = px.line_polar(radar_data, r='r', theta='theta', line_close=True, range_r=[0, 220],\n",
    "                        title=f'Cluster {cluster} Radar Graph, {cluster_data.shape[0]} pokemons')\n",
    "    \n",
    "    # Show plot\n",
    "    fig.show()\n"
   ]
  },
  {
   "cell_type": "code",
   "execution_count": null,
   "metadata": {},
   "outputs": [],
   "source": [
    "#Realizar un grafico scatter_matrix con plotly usando como parámetro color la variable clústeres.\n",
    "\n",
    "fig = sns.pairplot(data_new, hue='Cluster')\n",
    "plt.show()"
   ]
  },
  {
   "cell_type": "markdown",
   "metadata": {},
   "source": [
    "# K-MEDIOD"
   ]
  },
  {
   "cell_type": "code",
   "execution_count": null,
   "metadata": {},
   "outputs": [],
   "source": [
    "data_copy = data.copy()\n",
    "#data_copy = data_copy[data_copy['Legendary'] == False]\n",
    "data_new = data_copy.drop(['#','Name', 'Generation', 'Legendary', 'Total', 'Type 1', 'Type 2'], axis=1)#, 'Type 1', 'Type 2', 'Generation', 'Legendary', 'Total'], axis=1)\n",
    "\n",
    "categorial_features = data_new.select_dtypes(include=['object']).columns\n",
    "data_scaled = pd.get_dummies(data_new, columns=categorial_features)\n",
    "scaler = MinMaxScaler()\n",
    "data_scaled = scaler.fit_transform(data_scaled)"
   ]
  },
  {
   "cell_type": "code",
   "execution_count": null,
   "metadata": {},
   "outputs": [],
   "source": [
    "K = 20\n",
    "\n",
    "distances_list = []\n",
    "sillhouette_list = []\n",
    "\n",
    "for j in range(2, K):\n",
    "    kmediod = KMedoids(n_clusters=j, random_state=42)\n",
    "    data_new['Cluster'] = kmediod.fit_predict(data_scaled)\n",
    "    \n",
    "    total_distance = 0\n",
    "    for i in range(j):\n",
    "        cluster_points = data_scaled[data_new['Cluster'] == i]\n",
    "        cluster_center = kmediod.cluster_centers_[i]\n",
    "        total_distance += np.sum(np.linalg.norm(cluster_points - cluster_center, axis=1))**2\n",
    "\n",
    "    \n",
    "    #calculate sillhouette\n",
    "    sillhouette_list.append(silhouette_score(data_scaled, data_new['Cluster']))\n",
    "    \n",
    "    mean_distance = total_distance / data_new.shape[0]\n",
    "    distances_list.append(mean_distance)"
   ]
  },
  {
   "cell_type": "code",
   "execution_count": null,
   "metadata": {},
   "outputs": [],
   "source": [
    "#plot elbow method\n",
    "plt.plot(np.arange(2,K), distances_list)\n",
    "plt.xlabel('Number of clusters')\n",
    "plt.ylabel('Intracluster distance')\n",
    "plt.title('Elbow method')\n",
    "plt.show()\n"
   ]
  },
  {
   "cell_type": "code",
   "execution_count": null,
   "metadata": {},
   "outputs": [],
   "source": [
    "#plot sillhouette\n",
    "plt.plot(np.arange(2,K), sillhouette_list)\n",
    "plt.xlabel('Number of clusters')\n",
    "plt.ylabel('Intracluster distance')\n",
    "plt.xticks(np.arange(1,K,5))\n",
    "plt.grid()\n",
    "plt.show()"
   ]
  },
  {
   "cell_type": "code",
   "execution_count": null,
   "metadata": {},
   "outputs": [],
   "source": [
    "fig = go.Figure()\n",
    "clusters = data_new['Cluster'].unique()\n",
    "\n",
    "for cluster in clusters:\n",
    "    cluster_data = data_new[data_new['Cluster'] == cluster].drop('Cluster', axis=1)\n",
    "    radar_data = cluster_data.mean().reset_index()\n",
    "    radar_data.columns = ['Stats', 'Values']\n",
    "    fig.add_trace(go.Scatterpolar(\n",
    "        r=radar_data['Values'],\n",
    "        theta=radar_data['Stats'],\n",
    "        fill='toself',\n",
    "        name=f'Cluster {cluster}'\n",
    "    ))\n",
    "\n",
    "    \n",
    "\n",
    "fig.update_layout(\n",
    "  polar=dict(\n",
    "    radialaxis=dict(\n",
    "      visible=True,\n",
    "      range=[0, 220]\n",
    "    )),\n",
    "  showlegend=False\n",
    ")\n",
    "\n",
    "fig.show()"
   ]
  },
  {
   "cell_type": "markdown",
   "metadata": {},
   "source": [
    "# K-MEDIAN"
   ]
  },
  {
   "cell_type": "code",
   "execution_count": null,
   "metadata": {},
   "outputs": [],
   "source": [
    "data_copy = data.copy()\n",
    "#data_copy = data_copy[data_copy['Legendary'] == False]\n",
    "data_new = data_copy.drop(['#','Name', 'Generation', 'Legendary', 'Total', 'Type 1', 'Type 2'], axis=1)#, 'Type 1', 'Type 2', 'Generation', 'Legendary', 'Total'], axis=1)\n",
    "\n",
    "categorial_features = data_new.select_dtypes(include=['object']).columns\n",
    "data_scaled = pd.get_dummies(data_new, columns=categorial_features)\n",
    "scaler = MinMaxScaler()\n",
    "data_scaled = scaler.fit_transform(data_scaled)"
   ]
  },
  {
   "cell_type": "code",
   "execution_count": null,
   "metadata": {},
   "outputs": [],
   "source": [
    "K = 20\n",
    "\n",
    "distances_list = []\n",
    "sillhouette_list = []\n",
    "\n",
    "for j in range(2, K):\n",
    "    kmediod = KMedoids(n_clusters=j, random_state=42)\n",
    "    data_new['Cluster'] = kmediod.fit_predict(data_scaled)\n",
    "    \n",
    "    total_distance = 0\n",
    "    for i in range(j):\n",
    "        cluster_points = data_scaled[data_new['Cluster'] == i]\n",
    "        cluster_center = kmediod.cluster_centers_[i]\n",
    "        total_distance += np.sum(np.linalg.norm(cluster_points - cluster_center, axis=1))\n",
    "\n",
    "    \n",
    "    #calculate sillhouette\n",
    "    sillhouette_list.append(silhouette_score(data_scaled, data_new['Cluster']))\n",
    "    \n",
    "    mean_distance = total_distance / data_new.shape[0]\n",
    "    distances_list.append(mean_distance)"
   ]
  },
  {
   "cell_type": "code",
   "execution_count": null,
   "metadata": {},
   "outputs": [],
   "source": [
    "#plot elbow method\n",
    "plt.plot(np.arange(2,20), distances_list)\n",
    "plt.xlabel('Number of clusters')\n",
    "plt.ylabel('Intracluster distance')\n",
    "plt.title('Elbow method')\n",
    "plt.show()"
   ]
  },
  {
   "cell_type": "code",
   "execution_count": null,
   "metadata": {},
   "outputs": [],
   "source": [
    "#plot sillhouette\n",
    "plt.plot(np.arange(2,K), sillhouette_list)\n",
    "plt.xlabel('Number of clusters')\n",
    "plt.ylabel('Intracluster distance')\n",
    "plt.xticks(np.arange(1,K,5))\n",
    "plt.grid()\n",
    "plt.show()"
   ]
  },
  {
   "cell_type": "code",
   "execution_count": null,
   "metadata": {},
   "outputs": [],
   "source": [
    "fig = go.Figure()\n",
    "clusters = data_new['Cluster'].unique()\n",
    "\n",
    "for cluster in clusters:\n",
    "    cluster_data = data_new[data_new['Cluster'] == cluster].drop('Cluster', axis=1)\n",
    "    radar_data = cluster_data.mean().reset_index()\n",
    "    radar_data.columns = ['Stats', 'Values']\n",
    "    fig.add_trace(go.Scatterpolar(\n",
    "        r=radar_data['Values'],\n",
    "        theta=radar_data['Stats'],\n",
    "        fill='toself',\n",
    "        name=f'Cluster {cluster}'\n",
    "    ))\n",
    "\n",
    "    \n",
    "\n",
    "fig.update_layout(\n",
    "  polar=dict(\n",
    "    radialaxis=dict(\n",
    "      visible=True,\n",
    "      range=[0, 220]\n",
    "    )),\n",
    "  showlegend=False\n",
    ")\n",
    "\n",
    "fig.show()"
   ]
  }
 ],
 "metadata": {
  "kernelspec": {
   "display_name": "Python 3",
   "language": "python",
   "name": "python3"
  },
  "language_info": {
   "codemirror_mode": {
    "name": "ipython",
    "version": 3
   },
   "file_extension": ".py",
   "mimetype": "text/x-python",
   "name": "python",
   "nbconvert_exporter": "python",
   "pygments_lexer": "ipython3",
   "version": "3.10.5"
  }
 },
 "nbformat": 4,
 "nbformat_minor": 2
}
